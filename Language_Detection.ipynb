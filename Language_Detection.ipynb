{
  "nbformat": 4,
  "nbformat_minor": 0,
  "metadata": {
    "colab": {
      "name": "Language Detection.ipynb",
      "provenance": [],
      "collapsed_sections": [],
      "authorship_tag": "ABX9TyMqvK2TM/FBf0WvKCrmCeUv",
      "include_colab_link": true
    },
    "kernelspec": {
      "name": "python3",
      "display_name": "Python 3"
    }
  },
  "cells": [
    {
      "cell_type": "markdown",
      "metadata": {
        "id": "view-in-github",
        "colab_type": "text"
      },
      "source": [
        "<a href=\"https://colab.research.google.com/github/nabeelDanish/Language-Detection/blob/master/Language_Detection.ipynb\" target=\"_parent\"><img src=\"https://colab.research.google.com/assets/colab-badge.svg\" alt=\"Open In Colab\"/></a>"
      ]
    },
    {
      "cell_type": "markdown",
      "metadata": {
        "id": "71NVpRw3RM2-",
        "colab_type": "text"
      },
      "source": [
        "# Splitting of Audio Samples\n"
      ]
    },
    {
      "cell_type": "code",
      "metadata": {
        "id": "Lc4QhuPXRYE2",
        "colab_type": "code",
        "colab": {}
      },
      "source": [
        "# ======================================================================\n",
        "# --------------------[ SPLITTING AUDIO FILES ]-------------------------\n",
        "# ======================================================================\n",
        "# A simple pydub script to load a audio file and split it into time \n",
        "# slices. \n",
        "!pip install pydub\n",
        "from pydub import AudioSegment\n",
        "from pydub.utils import make_chunks\n",
        "\n",
        "audio_file = 'female1'\n",
        "audio_file_location = 'raw_data/urdu/' + audio_file + '.mp3'\n",
        "output_file = 'dataset/urdu/' + audio_file + '_'\n",
        "\n",
        "myaudio = AudioSegment.from_file(audio_file_location , 'mp3') \n",
        "chunk_length_ms = 10 * 1000                         # pydub calculates in millisec\n",
        "chunks = make_chunks(myaudio, chunk_length_ms) #Make chunks of one sec\n",
        "\n",
        "#Export all of the individual chunks as wav files\n",
        "\n",
        "for i, chunk in enumerate(chunks):\n",
        "    chunk_name = output_file + \"chunk{0}.wav\".format(i)\n",
        "    print(\"exporting\", chunk_name)\n",
        "    chunk.export(chunk_name, format=\"wav\")\n"
      ],
      "execution_count": null,
      "outputs": []
    }
  ]
}